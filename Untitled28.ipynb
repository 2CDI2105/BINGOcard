{
  "nbformat": 4,
  "nbformat_minor": 0,
  "metadata": {
    "colab": {
      "provenance": []
    },
    "kernelspec": {
      "name": "python3",
      "display_name": "Python 3"
    },
    "language_info": {
      "name": "python"
    }
  },
  "cells": [
    {
      "cell_type": "code",
      "execution_count": 8,
      "metadata": {
        "colab": {
          "base_uri": "https://localhost:8080/"
        },
        "id": "Ezjaayrdp0Kp",
        "outputId": "32325fc8-c546-43b5-8f19-a6dfd6986c23"
      },
      "outputs": [
        {
          "output_type": "stream",
          "name": "stdout",
          "text": [
            "  B |  I |  N |  G |  O \n",
            "  5 | 28 | 35 | 55 | 65\n",
            "  7 | 19 | 31 | 52 | 70\n",
            " 15 | 23 |    | 50 | 68\n",
            " 11 | 18 | 34 | 57 | 75\n",
            " 14 | 24 | 40 | 56 | 73\n"
          ]
        }
      ],
      "source": [
        "import random\n",
        "\n",
        "b = random.sample(range(1,16),5)\n",
        "i = random.sample(range(16,31),5)\n",
        "n = random.sample(range(31,46),5)\n",
        "g = random.sample(range(46,61),5)\n",
        "o = random.sample(range(61,76),5)\n",
        "\n",
        "print(\"  B |  I |  N |  G |  O \")\n",
        "for j in range(5):\n",
        "    print(\"%3d\"  % b[j],end=\" |\")\n",
        "    print(\"%3d\"  % i[j],end=\" |\")\n",
        "    if j == 2:\n",
        "        print(\"   \",end=\" |\")\n",
        "    else:\n",
        "        print(\"%3d\"  % n[j],end=\" |\")\n",
        "    print(\"%3d\"  % g[j],end=\" |\")\n",
        "    print(\"%3d\"  % o[j])"
      ]
    }
  ]
}